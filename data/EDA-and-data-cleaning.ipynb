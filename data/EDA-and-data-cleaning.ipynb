{
 "cells": [
  {
   "cell_type": "code",
   "execution_count": 130,
   "metadata": {},
   "outputs": [],
   "source": [
    "import pandas as pd\n",
    "import os"
   ]
  },
  {
   "cell_type": "code",
   "execution_count": 131,
   "metadata": {},
   "outputs": [],
   "source": [
    "df = pd.read_csv('./raw_data/' + os.listdir('raw_data')[1])"
   ]
  },
  {
   "cell_type": "code",
   "execution_count": 132,
   "metadata": {},
   "outputs": [],
   "source": [
    "df.columns = [i.lower() for i in df.columns]"
   ]
  },
  {
   "cell_type": "code",
   "execution_count": 133,
   "metadata": {},
   "outputs": [
    {
     "data": {
      "text/plain": [
       "player                   1. Connor McDavid\n",
       "team                                   EDM\n",
       "age                                     22\n",
       "date of birth                 Jan 13, 1997\n",
       "country                             Canada\n",
       "weight                     193 lbs - 88 kg\n",
       "height                       6' 1 - 185 cm\n",
       "pos                                      C\n",
       "handed                                Left\n",
       "drafted           1 - Round 1 - 2015 (EDM)\n",
       "slide cand.                            NaN\n",
       "waivers exempt                         NaN\n",
       "arb. elig                              NaN\n",
       "gp                                       0\n",
       "g                                        0\n",
       "a                                        0\n",
       "p                                        0\n",
       "p/gp                                  0.00\n",
       "+/-                                      0\n",
       "sh                                       0\n",
       "sh%                                   0.00\n",
       "toi                                    NaN\n",
       "w                                        -\n",
       "l                                        -\n",
       "so                                       -\n",
       "gaa                                      -\n",
       "sv%                                      -\n",
       "type                      Standard (1-way)\n",
       "signing date                   Jul 5, 2017\n",
       "signing age                             20\n",
       "arb. elig.1                            NaN\n",
       "arb. req                               NaN\n",
       "clause                                 NaN\n",
       "length                                   8\n",
       "signing                                RFA\n",
       "expiry                                 UFA\n",
       "exp. year                             2026\n",
       "cap hit                        $12,500,000\n",
       "cap hit %                            16.7%\n",
       "aav                            $12,500,000\n",
       "salary                         $14,000,000\n",
       "base salary                     $1,000,000\n",
       "minors                         $14,000,000\n",
       "s.bonus                        $13,000,000\n",
       "p.bonus                                 $0\n",
       "Name: 0, dtype: object"
      ]
     },
     "execution_count": 133,
     "metadata": {},
     "output_type": "execute_result"
    }
   ],
   "source": [
    "df.loc[0]"
   ]
  },
  {
   "cell_type": "code",
   "execution_count": 134,
   "metadata": {},
   "outputs": [],
   "source": [
    "df['player'] = [i.split(' ', maxsplit=1)[1] for i in df['player']]"
   ]
  },
  {
   "cell_type": "code",
   "execution_count": 135,
   "metadata": {},
   "outputs": [],
   "source": [
    "df['date of birth'] = pd.to_datetime(df['date of birth'])"
   ]
  },
  {
   "cell_type": "code",
   "execution_count": 136,
   "metadata": {},
   "outputs": [],
   "source": [
    "df['weight'] = [int(i.split(' ', maxsplit=1)[0]) for i in df['weight']]"
   ]
  },
  {
   "cell_type": "code",
   "execution_count": 137,
   "metadata": {},
   "outputs": [],
   "source": [
    "df['height'] = [int(i.split('-')[1].split(' ')[1]) for i in df['height']]"
   ]
  },
  {
   "cell_type": "code",
   "execution_count": 138,
   "metadata": {},
   "outputs": [],
   "source": [
    "df = df[df['pos'] != 'G']\n",
    "\n",
    "df['pos'] = ['D' if i.__contains__('D') else 'F' for i in df['pos']]"
   ]
  },
  {
   "cell_type": "code",
   "execution_count": 139,
   "metadata": {},
   "outputs": [],
   "source": [
    "df['drafted'] = [i.split(' ')[0] for i in df['drafted']]"
   ]
  },
  {
   "cell_type": "code",
   "execution_count": 140,
   "metadata": {},
   "outputs": [],
   "source": [
    "df['slide cand.'] = [1 if i == '✓' else 0 for i in df['slide cand.']]"
   ]
  },
  {
   "cell_type": "code",
   "execution_count": 141,
   "metadata": {},
   "outputs": [],
   "source": [
    "df['waivers exempt'] = [1 if i == '✓' else 0 for i in df['waivers exempt']]"
   ]
  },
  {
   "cell_type": "code",
   "execution_count": 142,
   "metadata": {},
   "outputs": [],
   "source": [
    "df['arb. elig'] = [1 if i == '✓' else 0 for i in df['arb. elig']]"
   ]
  },
  {
   "cell_type": "code",
   "execution_count": 143,
   "metadata": {},
   "outputs": [],
   "source": [
    "drop_cols = [\n",
    "    'gp', 'g', 'a', 'p', 'p/gp', '+/-', 'sh', 'sh%', 'toi',\n",
    "    'w', 'l', 'so', 'gaa', 'sv%', 'signing date', 'arb. elig.1',\n",
    "    'cap hit', 'salary', 'base salary', 'minors', 's.bonus', 'p.bonus',\n",
    "    'arb. req', 'exp. year'\n",
    "]\n",
    "\n",
    "df = df.drop(drop_cols, axis=1)"
   ]
  },
  {
   "cell_type": "code",
   "execution_count": 144,
   "metadata": {},
   "outputs": [],
   "source": [
    "type_map = {\n",
    "    'Standard (1-way)': 'one_way',\n",
    "    '35+ (1-way)': 'one_way',\n",
    "    'Standard (2-way)': 'two_way',\n",
    "    'Entry-Level': 'elc'\n",
    "}\n",
    "\n",
    "df['type'] = df['type'].map(type_map)"
   ]
  },
  {
   "cell_type": "code",
   "execution_count": 145,
   "metadata": {},
   "outputs": [],
   "source": [
    "df['clause'] = df['clause'].fillna('none')"
   ]
  },
  {
   "cell_type": "code",
   "execution_count": 146,
   "metadata": {},
   "outputs": [],
   "source": [
    "df['cap hit %'] = [float(i.replace('%','')) for i in df['cap hit %']]"
   ]
  },
  {
   "cell_type": "code",
   "execution_count": 147,
   "metadata": {},
   "outputs": [],
   "source": [
    "df['aav'] = [float(i.replace('$','').replace(',','')) for i in df['aav']]"
   ]
  },
  {
   "cell_type": "code",
   "execution_count": 148,
   "metadata": {},
   "outputs": [
    {
     "data": {
      "text/html": [
       "<div>\n",
       "<style scoped>\n",
       "    .dataframe tbody tr th:only-of-type {\n",
       "        vertical-align: middle;\n",
       "    }\n",
       "\n",
       "    .dataframe tbody tr th {\n",
       "        vertical-align: top;\n",
       "    }\n",
       "\n",
       "    .dataframe thead th {\n",
       "        text-align: right;\n",
       "    }\n",
       "</style>\n",
       "<table border=\"1\" class=\"dataframe\">\n",
       "  <thead>\n",
       "    <tr style=\"text-align: right;\">\n",
       "      <th></th>\n",
       "      <th>player</th>\n",
       "      <th>team</th>\n",
       "      <th>age</th>\n",
       "      <th>date of birth</th>\n",
       "      <th>country</th>\n",
       "      <th>weight</th>\n",
       "      <th>height</th>\n",
       "      <th>pos</th>\n",
       "      <th>handed</th>\n",
       "      <th>drafted</th>\n",
       "      <th>...</th>\n",
       "      <th>waivers exempt</th>\n",
       "      <th>arb. elig</th>\n",
       "      <th>type</th>\n",
       "      <th>signing age</th>\n",
       "      <th>clause</th>\n",
       "      <th>length</th>\n",
       "      <th>signing</th>\n",
       "      <th>expiry</th>\n",
       "      <th>cap hit %</th>\n",
       "      <th>aav</th>\n",
       "    </tr>\n",
       "  </thead>\n",
       "  <tbody>\n",
       "    <tr>\n",
       "      <th>0</th>\n",
       "      <td>Connor McDavid</td>\n",
       "      <td>EDM</td>\n",
       "      <td>22</td>\n",
       "      <td>1997-01-13</td>\n",
       "      <td>Canada</td>\n",
       "      <td>193</td>\n",
       "      <td>185</td>\n",
       "      <td>F</td>\n",
       "      <td>Left</td>\n",
       "      <td>1</td>\n",
       "      <td>...</td>\n",
       "      <td>0</td>\n",
       "      <td>0</td>\n",
       "      <td>one_way</td>\n",
       "      <td>20</td>\n",
       "      <td>none</td>\n",
       "      <td>8</td>\n",
       "      <td>RFA</td>\n",
       "      <td>UFA</td>\n",
       "      <td>16.7</td>\n",
       "      <td>12500000.0</td>\n",
       "    </tr>\n",
       "    <tr>\n",
       "      <th>1</th>\n",
       "      <td>Artemi Panarin</td>\n",
       "      <td>NYR</td>\n",
       "      <td>27</td>\n",
       "      <td>1991-10-30</td>\n",
       "      <td>Russia</td>\n",
       "      <td>168</td>\n",
       "      <td>180</td>\n",
       "      <td>F</td>\n",
       "      <td>Right</td>\n",
       "      <td>-</td>\n",
       "      <td>...</td>\n",
       "      <td>0</td>\n",
       "      <td>0</td>\n",
       "      <td>one_way</td>\n",
       "      <td>27</td>\n",
       "      <td>NMC</td>\n",
       "      <td>7</td>\n",
       "      <td>UFA</td>\n",
       "      <td>UFA</td>\n",
       "      <td>14.3</td>\n",
       "      <td>11642857.0</td>\n",
       "    </tr>\n",
       "    <tr>\n",
       "      <th>2</th>\n",
       "      <td>Auston Matthews</td>\n",
       "      <td>TOR</td>\n",
       "      <td>21</td>\n",
       "      <td>1997-09-17</td>\n",
       "      <td>United States</td>\n",
       "      <td>223</td>\n",
       "      <td>191</td>\n",
       "      <td>F</td>\n",
       "      <td>Left</td>\n",
       "      <td>1</td>\n",
       "      <td>...</td>\n",
       "      <td>0</td>\n",
       "      <td>0</td>\n",
       "      <td>one_way</td>\n",
       "      <td>21</td>\n",
       "      <td>none</td>\n",
       "      <td>5</td>\n",
       "      <td>RFA</td>\n",
       "      <td>UFA</td>\n",
       "      <td>14.6</td>\n",
       "      <td>11634000.0</td>\n",
       "    </tr>\n",
       "    <tr>\n",
       "      <th>3</th>\n",
       "      <td>Erik Karlsson</td>\n",
       "      <td>SJS</td>\n",
       "      <td>29</td>\n",
       "      <td>1990-05-31</td>\n",
       "      <td>Sweden</td>\n",
       "      <td>190</td>\n",
       "      <td>183</td>\n",
       "      <td>D</td>\n",
       "      <td>Right</td>\n",
       "      <td>15</td>\n",
       "      <td>...</td>\n",
       "      <td>0</td>\n",
       "      <td>0</td>\n",
       "      <td>one_way</td>\n",
       "      <td>29</td>\n",
       "      <td>NMC</td>\n",
       "      <td>8</td>\n",
       "      <td>UFA</td>\n",
       "      <td>UFA</td>\n",
       "      <td>14.5</td>\n",
       "      <td>11500000.0</td>\n",
       "    </tr>\n",
       "    <tr>\n",
       "      <th>4</th>\n",
       "      <td>John Tavares</td>\n",
       "      <td>TOR</td>\n",
       "      <td>28</td>\n",
       "      <td>1990-09-20</td>\n",
       "      <td>Canada</td>\n",
       "      <td>209</td>\n",
       "      <td>185</td>\n",
       "      <td>F</td>\n",
       "      <td>Left</td>\n",
       "      <td>1</td>\n",
       "      <td>...</td>\n",
       "      <td>0</td>\n",
       "      <td>0</td>\n",
       "      <td>one_way</td>\n",
       "      <td>27</td>\n",
       "      <td>NMC</td>\n",
       "      <td>7</td>\n",
       "      <td>UFA</td>\n",
       "      <td>UFA</td>\n",
       "      <td>13.8</td>\n",
       "      <td>11000000.0</td>\n",
       "    </tr>\n",
       "  </tbody>\n",
       "</table>\n",
       "<p>5 rows × 21 columns</p>\n",
       "</div>"
      ],
      "text/plain": [
       "            player team  age date of birth        country  weight  height pos  \\\n",
       "0   Connor McDavid  EDM   22    1997-01-13         Canada     193     185   F   \n",
       "1   Artemi Panarin  NYR   27    1991-10-30         Russia     168     180   F   \n",
       "2  Auston Matthews  TOR   21    1997-09-17  United States     223     191   F   \n",
       "3    Erik Karlsson  SJS   29    1990-05-31         Sweden     190     183   D   \n",
       "4     John Tavares  TOR   28    1990-09-20         Canada     209     185   F   \n",
       "\n",
       "  handed drafted     ...      waivers exempt  arb. elig     type signing age  \\\n",
       "0   Left       1     ...                   0          0  one_way          20   \n",
       "1  Right       -     ...                   0          0  one_way          27   \n",
       "2   Left       1     ...                   0          0  one_way          21   \n",
       "3  Right      15     ...                   0          0  one_way          29   \n",
       "4   Left       1     ...                   0          0  one_way          27   \n",
       "\n",
       "   clause length  signing expiry cap hit %         aav  \n",
       "0    none      8      RFA    UFA      16.7  12500000.0  \n",
       "1     NMC      7      UFA    UFA      14.3  11642857.0  \n",
       "2    none      5      RFA    UFA      14.6  11634000.0  \n",
       "3     NMC      8      UFA    UFA      14.5  11500000.0  \n",
       "4     NMC      7      UFA    UFA      13.8  11000000.0  \n",
       "\n",
       "[5 rows x 21 columns]"
      ]
     },
     "execution_count": 148,
     "metadata": {},
     "output_type": "execute_result"
    }
   ],
   "source": [
    "df.head()"
   ]
  },
  {
   "cell_type": "code",
   "execution_count": 149,
   "metadata": {},
   "outputs": [
    {
     "data": {
      "text/plain": [
       "player                 Connor McDavid\n",
       "team                              EDM\n",
       "age                                22\n",
       "date of birth     1997-01-13 00:00:00\n",
       "country                        Canada\n",
       "weight                            193\n",
       "height                            185\n",
       "pos                                 F\n",
       "handed                           Left\n",
       "drafted                             1\n",
       "slide cand.                         0\n",
       "waivers exempt                      0\n",
       "arb. elig                           0\n",
       "type                          one_way\n",
       "signing age                        20\n",
       "clause                           none\n",
       "length                              8\n",
       "signing                           RFA\n",
       "expiry                            UFA\n",
       "cap hit %                        16.7\n",
       "aav                          1.25e+07\n",
       "Name: 0, dtype: object"
      ]
     },
     "execution_count": 149,
     "metadata": {},
     "output_type": "execute_result"
    }
   ],
   "source": [
    "df.loc[0]"
   ]
  },
  {
   "cell_type": "markdown",
   "metadata": {},
   "source": [
    "# Combine with Career totals prior to signing"
   ]
  },
  {
   "cell_type": "code",
   "execution_count": 150,
   "metadata": {},
   "outputs": [],
   "source": [
    "players = pd.read_csv('./raw_data/' + os.listdir('raw_data')[0])"
   ]
  },
  {
   "cell_type": "code",
   "execution_count": 151,
   "metadata": {},
   "outputs": [],
   "source": [
    "import difflib"
   ]
  },
  {
   "cell_type": "code",
   "execution_count": 154,
   "metadata": {},
   "outputs": [
    {
     "data": {
      "text/plain": [
       "['Sebastian Aho', 'Sebastian Aho', 'Sebastien Caron']"
      ]
     },
     "execution_count": 154,
     "metadata": {},
     "output_type": "execute_result"
    }
   ],
   "source": [
    "sample = 'sebastian aho'\n",
    "\n",
    "difflib.get_close_matches(sample, players['person_fullName'])"
   ]
  },
  {
   "cell_type": "code",
   "execution_count": 156,
   "metadata": {
    "scrolled": true
   },
   "outputs": [],
   "source": [
    "player_map = dict(zip(players['person_fullName'], players['person_id']))"
   ]
  },
  {
   "cell_type": "code",
   "execution_count": 168,
   "metadata": {},
   "outputs": [
    {
     "data": {
      "text/plain": [
       "Nathan Walker         2\n",
       "Matt Roy              2\n",
       "Peter Cehlárik        2\n",
       "Colton Parayko        1\n",
       "Andreas Athanasiou    1\n",
       "Tyler Lewington       1\n",
       "T.J. Oshie            1\n",
       "Sean Monahan          1\n",
       "Radek Faksa           1\n",
       "Kyle Burroughs        1\n",
       "Name: player, dtype: int64"
      ]
     },
     "execution_count": 168,
     "metadata": {},
     "output_type": "execute_result"
    }
   ],
   "source": [
    "df[df['type'] != 'elc'].player.value_counts().head(10)"
   ]
  },
  {
   "cell_type": "code",
   "execution_count": 172,
   "metadata": {},
   "outputs": [
    {
     "data": {
      "text/html": [
       "<div>\n",
       "<style scoped>\n",
       "    .dataframe tbody tr th:only-of-type {\n",
       "        vertical-align: middle;\n",
       "    }\n",
       "\n",
       "    .dataframe tbody tr th {\n",
       "        vertical-align: top;\n",
       "    }\n",
       "\n",
       "    .dataframe thead th {\n",
       "        text-align: right;\n",
       "    }\n",
       "</style>\n",
       "<table border=\"1\" class=\"dataframe\">\n",
       "  <thead>\n",
       "    <tr style=\"text-align: right;\">\n",
       "      <th></th>\n",
       "      <th>player</th>\n",
       "      <th>team</th>\n",
       "      <th>age</th>\n",
       "      <th>date of birth</th>\n",
       "      <th>country</th>\n",
       "      <th>weight</th>\n",
       "      <th>height</th>\n",
       "      <th>pos</th>\n",
       "      <th>handed</th>\n",
       "      <th>drafted</th>\n",
       "      <th>...</th>\n",
       "      <th>waivers exempt</th>\n",
       "      <th>arb. elig</th>\n",
       "      <th>type</th>\n",
       "      <th>signing age</th>\n",
       "      <th>clause</th>\n",
       "      <th>length</th>\n",
       "      <th>signing</th>\n",
       "      <th>expiry</th>\n",
       "      <th>cap hit %</th>\n",
       "      <th>aav</th>\n",
       "    </tr>\n",
       "  </thead>\n",
       "  <tbody>\n",
       "    <tr>\n",
       "      <th>1250</th>\n",
       "      <td>Nathan Walker</td>\n",
       "      <td>STL</td>\n",
       "      <td>25</td>\n",
       "      <td>1994-02-07</td>\n",
       "      <td>United Kingdom</td>\n",
       "      <td>186</td>\n",
       "      <td>175</td>\n",
       "      <td>F</td>\n",
       "      <td>Left</td>\n",
       "      <td>89</td>\n",
       "      <td>...</td>\n",
       "      <td>0</td>\n",
       "      <td>0</td>\n",
       "      <td>two_way</td>\n",
       "      <td>25</td>\n",
       "      <td>none</td>\n",
       "      <td>2</td>\n",
       "      <td>UFA</td>\n",
       "      <td>UFA</td>\n",
       "      <td>0.9</td>\n",
       "      <td>700000.0</td>\n",
       "    </tr>\n",
       "  </tbody>\n",
       "</table>\n",
       "<p>1 rows × 21 columns</p>\n",
       "</div>"
      ],
      "text/plain": [
       "             player team  age date of birth         country  weight  height  \\\n",
       "1250  Nathan Walker  STL   25    1994-02-07  United Kingdom     186     175   \n",
       "\n",
       "     pos handed drafted    ...     waivers exempt  arb. elig     type  \\\n",
       "1250   F   Left      89    ...                  0          0  two_way   \n",
       "\n",
       "     signing age  clause length  signing expiry cap hit %       aav  \n",
       "1250          25    none      2      UFA    UFA       0.9  700000.0  \n",
       "\n",
       "[1 rows x 21 columns]"
      ]
     },
     "execution_count": 172,
     "metadata": {},
     "output_type": "execute_result"
    }
   ],
   "source": [
    "df[df['player']=='Nathan Walker']"
   ]
  },
  {
   "cell_type": "code",
   "execution_count": 171,
   "metadata": {},
   "outputs": [],
   "source": [
    "df = df.drop(index=1245, axis=0)"
   ]
  },
  {
   "cell_type": "code",
   "execution_count": 170,
   "metadata": {},
   "outputs": [
    {
     "data": {
      "text/html": [
       "<div>\n",
       "<style scoped>\n",
       "    .dataframe tbody tr th:only-of-type {\n",
       "        vertical-align: middle;\n",
       "    }\n",
       "\n",
       "    .dataframe tbody tr th {\n",
       "        vertical-align: top;\n",
       "    }\n",
       "\n",
       "    .dataframe thead th {\n",
       "        text-align: right;\n",
       "    }\n",
       "</style>\n",
       "<table border=\"1\" class=\"dataframe\">\n",
       "  <thead>\n",
       "    <tr style=\"text-align: right;\">\n",
       "      <th></th>\n",
       "      <th>player</th>\n",
       "      <th>team</th>\n",
       "      <th>age</th>\n",
       "      <th>date of birth</th>\n",
       "      <th>country</th>\n",
       "      <th>weight</th>\n",
       "      <th>height</th>\n",
       "      <th>pos</th>\n",
       "      <th>handed</th>\n",
       "      <th>drafted</th>\n",
       "      <th>...</th>\n",
       "      <th>waivers exempt</th>\n",
       "      <th>arb. elig</th>\n",
       "      <th>type</th>\n",
       "      <th>signing age</th>\n",
       "      <th>clause</th>\n",
       "      <th>length</th>\n",
       "      <th>signing</th>\n",
       "      <th>expiry</th>\n",
       "      <th>cap hit %</th>\n",
       "      <th>aav</th>\n",
       "    </tr>\n",
       "  </thead>\n",
       "  <tbody>\n",
       "    <tr>\n",
       "      <th>1246</th>\n",
       "      <td>Matt Roy</td>\n",
       "      <td>LAK</td>\n",
       "      <td>24</td>\n",
       "      <td>1995-03-01</td>\n",
       "      <td>United States</td>\n",
       "      <td>200</td>\n",
       "      <td>185</td>\n",
       "      <td>D</td>\n",
       "      <td>Right</td>\n",
       "      <td>194</td>\n",
       "      <td>...</td>\n",
       "      <td>1</td>\n",
       "      <td>0</td>\n",
       "      <td>two_way</td>\n",
       "      <td>24</td>\n",
       "      <td>none</td>\n",
       "      <td>2</td>\n",
       "      <td>RFA</td>\n",
       "      <td>RFA</td>\n",
       "      <td>0.9</td>\n",
       "      <td>700000.0</td>\n",
       "    </tr>\n",
       "    <tr>\n",
       "      <th>1251</th>\n",
       "      <td>Matt Roy</td>\n",
       "      <td>LAK</td>\n",
       "      <td>24</td>\n",
       "      <td>1995-03-01</td>\n",
       "      <td>United States</td>\n",
       "      <td>200</td>\n",
       "      <td>185</td>\n",
       "      <td>D</td>\n",
       "      <td>Right</td>\n",
       "      <td>194</td>\n",
       "      <td>...</td>\n",
       "      <td>1</td>\n",
       "      <td>0</td>\n",
       "      <td>two_way</td>\n",
       "      <td>24</td>\n",
       "      <td>none</td>\n",
       "      <td>2</td>\n",
       "      <td>RFA</td>\n",
       "      <td>RFA</td>\n",
       "      <td>0.9</td>\n",
       "      <td>700000.0</td>\n",
       "    </tr>\n",
       "  </tbody>\n",
       "</table>\n",
       "<p>2 rows × 21 columns</p>\n",
       "</div>"
      ],
      "text/plain": [
       "        player team  age date of birth        country  weight  height pos  \\\n",
       "1246  Matt Roy  LAK   24    1995-03-01  United States     200     185   D   \n",
       "1251  Matt Roy  LAK   24    1995-03-01  United States     200     185   D   \n",
       "\n",
       "     handed drafted    ...     waivers exempt  arb. elig     type signing age  \\\n",
       "1246  Right     194    ...                  1          0  two_way          24   \n",
       "1251  Right     194    ...                  1          0  two_way          24   \n",
       "\n",
       "      clause length  signing expiry cap hit %       aav  \n",
       "1246    none      2      RFA    RFA       0.9  700000.0  \n",
       "1251    none      2      RFA    RFA       0.9  700000.0  \n",
       "\n",
       "[2 rows x 21 columns]"
      ]
     },
     "execution_count": 170,
     "metadata": {},
     "output_type": "execute_result"
    }
   ],
   "source": [
    "df[df['player']=='Matt Roy']"
   ]
  },
  {
   "cell_type": "code",
   "execution_count": 173,
   "metadata": {},
   "outputs": [],
   "source": [
    "df = df.drop(index=1246, axis=0)"
   ]
  },
  {
   "cell_type": "code",
   "execution_count": 175,
   "metadata": {},
   "outputs": [
    {
     "data": {
      "text/html": [
       "<div>\n",
       "<style scoped>\n",
       "    .dataframe tbody tr th:only-of-type {\n",
       "        vertical-align: middle;\n",
       "    }\n",
       "\n",
       "    .dataframe tbody tr th {\n",
       "        vertical-align: top;\n",
       "    }\n",
       "\n",
       "    .dataframe thead th {\n",
       "        text-align: right;\n",
       "    }\n",
       "</style>\n",
       "<table border=\"1\" class=\"dataframe\">\n",
       "  <thead>\n",
       "    <tr style=\"text-align: right;\">\n",
       "      <th></th>\n",
       "      <th>player</th>\n",
       "      <th>team</th>\n",
       "      <th>age</th>\n",
       "      <th>date of birth</th>\n",
       "      <th>country</th>\n",
       "      <th>weight</th>\n",
       "      <th>height</th>\n",
       "      <th>pos</th>\n",
       "      <th>handed</th>\n",
       "      <th>drafted</th>\n",
       "      <th>...</th>\n",
       "      <th>waivers exempt</th>\n",
       "      <th>arb. elig</th>\n",
       "      <th>type</th>\n",
       "      <th>signing age</th>\n",
       "      <th>clause</th>\n",
       "      <th>length</th>\n",
       "      <th>signing</th>\n",
       "      <th>expiry</th>\n",
       "      <th>cap hit %</th>\n",
       "      <th>aav</th>\n",
       "    </tr>\n",
       "  </thead>\n",
       "  <tbody>\n",
       "    <tr>\n",
       "      <th>1299</th>\n",
       "      <td>Peter Cehlárik</td>\n",
       "      <td>BOS</td>\n",
       "      <td>23</td>\n",
       "      <td>1995-08-02</td>\n",
       "      <td>Slovakia</td>\n",
       "      <td>202</td>\n",
       "      <td>188</td>\n",
       "      <td>F</td>\n",
       "      <td>Left</td>\n",
       "      <td>90</td>\n",
       "      <td>...</td>\n",
       "      <td>0</td>\n",
       "      <td>0</td>\n",
       "      <td>two_way</td>\n",
       "      <td>23</td>\n",
       "      <td>none</td>\n",
       "      <td>1</td>\n",
       "      <td>RFA</td>\n",
       "      <td>RFA</td>\n",
       "      <td>0.9</td>\n",
       "      <td>700000.0</td>\n",
       "    </tr>\n",
       "    <tr>\n",
       "      <th>1300</th>\n",
       "      <td>Peter Cehlárik</td>\n",
       "      <td>BOS</td>\n",
       "      <td>23</td>\n",
       "      <td>1995-08-02</td>\n",
       "      <td>Slovakia</td>\n",
       "      <td>202</td>\n",
       "      <td>188</td>\n",
       "      <td>F</td>\n",
       "      <td>Left</td>\n",
       "      <td>90</td>\n",
       "      <td>...</td>\n",
       "      <td>0</td>\n",
       "      <td>0</td>\n",
       "      <td>two_way</td>\n",
       "      <td>23</td>\n",
       "      <td>none</td>\n",
       "      <td>1</td>\n",
       "      <td>RFA</td>\n",
       "      <td>RFA</td>\n",
       "      <td>0.9</td>\n",
       "      <td>700000.0</td>\n",
       "    </tr>\n",
       "  </tbody>\n",
       "</table>\n",
       "<p>2 rows × 21 columns</p>\n",
       "</div>"
      ],
      "text/plain": [
       "              player team  age date of birth   country  weight  height pos  \\\n",
       "1299  Peter Cehlárik  BOS   23    1995-08-02  Slovakia     202     188   F   \n",
       "1300  Peter Cehlárik  BOS   23    1995-08-02  Slovakia     202     188   F   \n",
       "\n",
       "     handed drafted    ...     waivers exempt  arb. elig     type signing age  \\\n",
       "1299   Left      90    ...                  0          0  two_way          23   \n",
       "1300   Left      90    ...                  0          0  two_way          23   \n",
       "\n",
       "      clause length  signing expiry cap hit %       aav  \n",
       "1299    none      1      RFA    RFA       0.9  700000.0  \n",
       "1300    none      1      RFA    RFA       0.9  700000.0  \n",
       "\n",
       "[2 rows x 21 columns]"
      ]
     },
     "execution_count": 175,
     "metadata": {},
     "output_type": "execute_result"
    }
   ],
   "source": [
    "df[df['player']=='Peter Cehlárik']"
   ]
  },
  {
   "cell_type": "code",
   "execution_count": 176,
   "metadata": {},
   "outputs": [],
   "source": [
    "df = df.drop(index=1299, axis=0)"
   ]
  },
  {
   "cell_type": "code",
   "execution_count": 177,
   "metadata": {},
   "outputs": [
    {
     "data": {
      "text/plain": [
       "Bryan Rust            1\n",
       "Andreas Athanasiou    1\n",
       "Carl Dahlström        1\n",
       "Tyler Lewington       1\n",
       "T.J. Oshie            1\n",
       "Sean Monahan          1\n",
       "Radek Faksa           1\n",
       "Kyle Burroughs        1\n",
       "Vinnie Hinostroza     1\n",
       "Nic Dowd              1\n",
       "Name: player, dtype: int64"
      ]
     },
     "execution_count": 177,
     "metadata": {},
     "output_type": "execute_result"
    }
   ],
   "source": [
    "df[df['type'] != 'elc'].player.value_counts().head(10)"
   ]
  },
  {
   "cell_type": "code",
   "execution_count": 178,
   "metadata": {},
   "outputs": [],
   "source": [
    "df = df[df['type'] != 'elc']"
   ]
  },
  {
   "cell_type": "code",
   "execution_count": 180,
   "metadata": {},
   "outputs": [
    {
     "ename": "KeyError",
     "evalue": "''",
     "output_type": "error",
     "traceback": [
      "\u001b[0;31m---------------------------------------------------------------------------\u001b[0m",
      "\u001b[0;31mKeyError\u001b[0m                                  Traceback (most recent call last)",
      "\u001b[0;32m/anaconda3/lib/python3.7/site-packages/pandas/core/indexes/base.py\u001b[0m in \u001b[0;36mget_loc\u001b[0;34m(self, key, method, tolerance)\u001b[0m\n\u001b[1;32m   3077\u001b[0m             \u001b[0;32mtry\u001b[0m\u001b[0;34m:\u001b[0m\u001b[0;34m\u001b[0m\u001b[0;34m\u001b[0m\u001b[0m\n\u001b[0;32m-> 3078\u001b[0;31m                 \u001b[0;32mreturn\u001b[0m \u001b[0mself\u001b[0m\u001b[0;34m.\u001b[0m\u001b[0m_engine\u001b[0m\u001b[0;34m.\u001b[0m\u001b[0mget_loc\u001b[0m\u001b[0;34m(\u001b[0m\u001b[0mkey\u001b[0m\u001b[0;34m)\u001b[0m\u001b[0;34m\u001b[0m\u001b[0;34m\u001b[0m\u001b[0m\n\u001b[0m\u001b[1;32m   3079\u001b[0m             \u001b[0;32mexcept\u001b[0m \u001b[0mKeyError\u001b[0m\u001b[0;34m:\u001b[0m\u001b[0;34m\u001b[0m\u001b[0;34m\u001b[0m\u001b[0m\n",
      "\u001b[0;32mpandas/_libs/index.pyx\u001b[0m in \u001b[0;36mpandas._libs.index.IndexEngine.get_loc\u001b[0;34m()\u001b[0m\n",
      "\u001b[0;32mpandas/_libs/index.pyx\u001b[0m in \u001b[0;36mpandas._libs.index.IndexEngine.get_loc\u001b[0;34m()\u001b[0m\n",
      "\u001b[0;32mpandas/_libs/hashtable_class_helper.pxi\u001b[0m in \u001b[0;36mpandas._libs.hashtable.PyObjectHashTable.get_item\u001b[0;34m()\u001b[0m\n",
      "\u001b[0;32mpandas/_libs/hashtable_class_helper.pxi\u001b[0m in \u001b[0;36mpandas._libs.hashtable.PyObjectHashTable.get_item\u001b[0;34m()\u001b[0m\n",
      "\u001b[0;31mKeyError\u001b[0m: ''",
      "\nDuring handling of the above exception, another exception occurred:\n",
      "\u001b[0;31mKeyError\u001b[0m                                  Traceback (most recent call last)",
      "\u001b[0;32m<ipython-input-180-88186ce9795e>\u001b[0m in \u001b[0;36m<module>\u001b[0;34m\u001b[0m\n\u001b[1;32m      1\u001b[0m \u001b[0mplayer_map\u001b[0m \u001b[0;34m=\u001b[0m \u001b[0mdict\u001b[0m\u001b[0;34m(\u001b[0m\u001b[0mzip\u001b[0m\u001b[0;34m(\u001b[0m\u001b[0mplayers\u001b[0m\u001b[0;34m[\u001b[0m\u001b[0;34m'person_fullName'\u001b[0m\u001b[0;34m]\u001b[0m\u001b[0;34m,\u001b[0m \u001b[0mplayers\u001b[0m\u001b[0;34m[\u001b[0m\u001b[0;34m'person_id'\u001b[0m\u001b[0;34m]\u001b[0m\u001b[0;34m)\u001b[0m\u001b[0;34m)\u001b[0m\u001b[0;34m\u001b[0m\u001b[0;34m\u001b[0m\u001b[0m\n\u001b[1;32m      2\u001b[0m \u001b[0;34m\u001b[0m\u001b[0m\n\u001b[0;32m----> 3\u001b[0;31m \u001b[0mdf\u001b[0m\u001b[0;34m[\u001b[0m\u001b[0;34m'player_id'\u001b[0m\u001b[0;34m]\u001b[0m \u001b[0;34m=\u001b[0m \u001b[0;34m[\u001b[0m\u001b[0mplayer_map\u001b[0m\u001b[0;34m[\u001b[0m\u001b[0mdifflib\u001b[0m\u001b[0;34m.\u001b[0m\u001b[0mget_close_matches\u001b[0m\u001b[0;34m(\u001b[0m\u001b[0mi\u001b[0m\u001b[0;34m,\u001b[0m \u001b[0mplayers\u001b[0m\u001b[0;34m[\u001b[0m\u001b[0;34m'person_fullName'\u001b[0m\u001b[0;34m]\u001b[0m\u001b[0;34m)\u001b[0m\u001b[0;34m[\u001b[0m\u001b[0;36m0\u001b[0m\u001b[0;34m]\u001b[0m\u001b[0;34m]\u001b[0m \u001b[0;32mfor\u001b[0m \u001b[0mi\u001b[0m \u001b[0;32min\u001b[0m \u001b[0mdf\u001b[0m\u001b[0;34m[\u001b[0m\u001b[0;34m''\u001b[0m\u001b[0;34m]\u001b[0m\u001b[0;34m]\u001b[0m\u001b[0;34m\u001b[0m\u001b[0;34m\u001b[0m\u001b[0m\n\u001b[0m",
      "\u001b[0;32m/anaconda3/lib/python3.7/site-packages/pandas/core/frame.py\u001b[0m in \u001b[0;36m__getitem__\u001b[0;34m(self, key)\u001b[0m\n\u001b[1;32m   2686\u001b[0m             \u001b[0;32mreturn\u001b[0m \u001b[0mself\u001b[0m\u001b[0;34m.\u001b[0m\u001b[0m_getitem_multilevel\u001b[0m\u001b[0;34m(\u001b[0m\u001b[0mkey\u001b[0m\u001b[0;34m)\u001b[0m\u001b[0;34m\u001b[0m\u001b[0;34m\u001b[0m\u001b[0m\n\u001b[1;32m   2687\u001b[0m         \u001b[0;32melse\u001b[0m\u001b[0;34m:\u001b[0m\u001b[0;34m\u001b[0m\u001b[0;34m\u001b[0m\u001b[0m\n\u001b[0;32m-> 2688\u001b[0;31m             \u001b[0;32mreturn\u001b[0m \u001b[0mself\u001b[0m\u001b[0;34m.\u001b[0m\u001b[0m_getitem_column\u001b[0m\u001b[0;34m(\u001b[0m\u001b[0mkey\u001b[0m\u001b[0;34m)\u001b[0m\u001b[0;34m\u001b[0m\u001b[0;34m\u001b[0m\u001b[0m\n\u001b[0m\u001b[1;32m   2689\u001b[0m \u001b[0;34m\u001b[0m\u001b[0m\n\u001b[1;32m   2690\u001b[0m     \u001b[0;32mdef\u001b[0m \u001b[0m_getitem_column\u001b[0m\u001b[0;34m(\u001b[0m\u001b[0mself\u001b[0m\u001b[0;34m,\u001b[0m \u001b[0mkey\u001b[0m\u001b[0;34m)\u001b[0m\u001b[0;34m:\u001b[0m\u001b[0;34m\u001b[0m\u001b[0;34m\u001b[0m\u001b[0m\n",
      "\u001b[0;32m/anaconda3/lib/python3.7/site-packages/pandas/core/frame.py\u001b[0m in \u001b[0;36m_getitem_column\u001b[0;34m(self, key)\u001b[0m\n\u001b[1;32m   2693\u001b[0m         \u001b[0;31m# get column\u001b[0m\u001b[0;34m\u001b[0m\u001b[0;34m\u001b[0m\u001b[0;34m\u001b[0m\u001b[0m\n\u001b[1;32m   2694\u001b[0m         \u001b[0;32mif\u001b[0m \u001b[0mself\u001b[0m\u001b[0;34m.\u001b[0m\u001b[0mcolumns\u001b[0m\u001b[0;34m.\u001b[0m\u001b[0mis_unique\u001b[0m\u001b[0;34m:\u001b[0m\u001b[0;34m\u001b[0m\u001b[0;34m\u001b[0m\u001b[0m\n\u001b[0;32m-> 2695\u001b[0;31m             \u001b[0;32mreturn\u001b[0m \u001b[0mself\u001b[0m\u001b[0;34m.\u001b[0m\u001b[0m_get_item_cache\u001b[0m\u001b[0;34m(\u001b[0m\u001b[0mkey\u001b[0m\u001b[0;34m)\u001b[0m\u001b[0;34m\u001b[0m\u001b[0;34m\u001b[0m\u001b[0m\n\u001b[0m\u001b[1;32m   2696\u001b[0m \u001b[0;34m\u001b[0m\u001b[0m\n\u001b[1;32m   2697\u001b[0m         \u001b[0;31m# duplicate columns & possible reduce dimensionality\u001b[0m\u001b[0;34m\u001b[0m\u001b[0;34m\u001b[0m\u001b[0;34m\u001b[0m\u001b[0m\n",
      "\u001b[0;32m/anaconda3/lib/python3.7/site-packages/pandas/core/generic.py\u001b[0m in \u001b[0;36m_get_item_cache\u001b[0;34m(self, item)\u001b[0m\n\u001b[1;32m   2487\u001b[0m         \u001b[0mres\u001b[0m \u001b[0;34m=\u001b[0m \u001b[0mcache\u001b[0m\u001b[0;34m.\u001b[0m\u001b[0mget\u001b[0m\u001b[0;34m(\u001b[0m\u001b[0mitem\u001b[0m\u001b[0;34m)\u001b[0m\u001b[0;34m\u001b[0m\u001b[0;34m\u001b[0m\u001b[0m\n\u001b[1;32m   2488\u001b[0m         \u001b[0;32mif\u001b[0m \u001b[0mres\u001b[0m \u001b[0;32mis\u001b[0m \u001b[0;32mNone\u001b[0m\u001b[0;34m:\u001b[0m\u001b[0;34m\u001b[0m\u001b[0;34m\u001b[0m\u001b[0m\n\u001b[0;32m-> 2489\u001b[0;31m             \u001b[0mvalues\u001b[0m \u001b[0;34m=\u001b[0m \u001b[0mself\u001b[0m\u001b[0;34m.\u001b[0m\u001b[0m_data\u001b[0m\u001b[0;34m.\u001b[0m\u001b[0mget\u001b[0m\u001b[0;34m(\u001b[0m\u001b[0mitem\u001b[0m\u001b[0;34m)\u001b[0m\u001b[0;34m\u001b[0m\u001b[0;34m\u001b[0m\u001b[0m\n\u001b[0m\u001b[1;32m   2490\u001b[0m             \u001b[0mres\u001b[0m \u001b[0;34m=\u001b[0m \u001b[0mself\u001b[0m\u001b[0;34m.\u001b[0m\u001b[0m_box_item_values\u001b[0m\u001b[0;34m(\u001b[0m\u001b[0mitem\u001b[0m\u001b[0;34m,\u001b[0m \u001b[0mvalues\u001b[0m\u001b[0;34m)\u001b[0m\u001b[0;34m\u001b[0m\u001b[0;34m\u001b[0m\u001b[0m\n\u001b[1;32m   2491\u001b[0m             \u001b[0mcache\u001b[0m\u001b[0;34m[\u001b[0m\u001b[0mitem\u001b[0m\u001b[0;34m]\u001b[0m \u001b[0;34m=\u001b[0m \u001b[0mres\u001b[0m\u001b[0;34m\u001b[0m\u001b[0;34m\u001b[0m\u001b[0m\n",
      "\u001b[0;32m/anaconda3/lib/python3.7/site-packages/pandas/core/internals.py\u001b[0m in \u001b[0;36mget\u001b[0;34m(self, item, fastpath)\u001b[0m\n\u001b[1;32m   4113\u001b[0m \u001b[0;34m\u001b[0m\u001b[0m\n\u001b[1;32m   4114\u001b[0m             \u001b[0;32mif\u001b[0m \u001b[0;32mnot\u001b[0m \u001b[0misna\u001b[0m\u001b[0;34m(\u001b[0m\u001b[0mitem\u001b[0m\u001b[0;34m)\u001b[0m\u001b[0;34m:\u001b[0m\u001b[0;34m\u001b[0m\u001b[0;34m\u001b[0m\u001b[0m\n\u001b[0;32m-> 4115\u001b[0;31m                 \u001b[0mloc\u001b[0m \u001b[0;34m=\u001b[0m \u001b[0mself\u001b[0m\u001b[0;34m.\u001b[0m\u001b[0mitems\u001b[0m\u001b[0;34m.\u001b[0m\u001b[0mget_loc\u001b[0m\u001b[0;34m(\u001b[0m\u001b[0mitem\u001b[0m\u001b[0;34m)\u001b[0m\u001b[0;34m\u001b[0m\u001b[0;34m\u001b[0m\u001b[0m\n\u001b[0m\u001b[1;32m   4116\u001b[0m             \u001b[0;32melse\u001b[0m\u001b[0;34m:\u001b[0m\u001b[0;34m\u001b[0m\u001b[0;34m\u001b[0m\u001b[0m\n\u001b[1;32m   4117\u001b[0m                 \u001b[0mindexer\u001b[0m \u001b[0;34m=\u001b[0m \u001b[0mnp\u001b[0m\u001b[0;34m.\u001b[0m\u001b[0marange\u001b[0m\u001b[0;34m(\u001b[0m\u001b[0mlen\u001b[0m\u001b[0;34m(\u001b[0m\u001b[0mself\u001b[0m\u001b[0;34m.\u001b[0m\u001b[0mitems\u001b[0m\u001b[0;34m)\u001b[0m\u001b[0;34m)\u001b[0m\u001b[0;34m[\u001b[0m\u001b[0misna\u001b[0m\u001b[0;34m(\u001b[0m\u001b[0mself\u001b[0m\u001b[0;34m.\u001b[0m\u001b[0mitems\u001b[0m\u001b[0;34m)\u001b[0m\u001b[0;34m]\u001b[0m\u001b[0;34m\u001b[0m\u001b[0;34m\u001b[0m\u001b[0m\n",
      "\u001b[0;32m/anaconda3/lib/python3.7/site-packages/pandas/core/indexes/base.py\u001b[0m in \u001b[0;36mget_loc\u001b[0;34m(self, key, method, tolerance)\u001b[0m\n\u001b[1;32m   3078\u001b[0m                 \u001b[0;32mreturn\u001b[0m \u001b[0mself\u001b[0m\u001b[0;34m.\u001b[0m\u001b[0m_engine\u001b[0m\u001b[0;34m.\u001b[0m\u001b[0mget_loc\u001b[0m\u001b[0;34m(\u001b[0m\u001b[0mkey\u001b[0m\u001b[0;34m)\u001b[0m\u001b[0;34m\u001b[0m\u001b[0;34m\u001b[0m\u001b[0m\n\u001b[1;32m   3079\u001b[0m             \u001b[0;32mexcept\u001b[0m \u001b[0mKeyError\u001b[0m\u001b[0;34m:\u001b[0m\u001b[0;34m\u001b[0m\u001b[0;34m\u001b[0m\u001b[0m\n\u001b[0;32m-> 3080\u001b[0;31m                 \u001b[0;32mreturn\u001b[0m \u001b[0mself\u001b[0m\u001b[0;34m.\u001b[0m\u001b[0m_engine\u001b[0m\u001b[0;34m.\u001b[0m\u001b[0mget_loc\u001b[0m\u001b[0;34m(\u001b[0m\u001b[0mself\u001b[0m\u001b[0;34m.\u001b[0m\u001b[0m_maybe_cast_indexer\u001b[0m\u001b[0;34m(\u001b[0m\u001b[0mkey\u001b[0m\u001b[0;34m)\u001b[0m\u001b[0;34m)\u001b[0m\u001b[0;34m\u001b[0m\u001b[0;34m\u001b[0m\u001b[0m\n\u001b[0m\u001b[1;32m   3081\u001b[0m \u001b[0;34m\u001b[0m\u001b[0m\n\u001b[1;32m   3082\u001b[0m         \u001b[0mindexer\u001b[0m \u001b[0;34m=\u001b[0m \u001b[0mself\u001b[0m\u001b[0;34m.\u001b[0m\u001b[0mget_indexer\u001b[0m\u001b[0;34m(\u001b[0m\u001b[0;34m[\u001b[0m\u001b[0mkey\u001b[0m\u001b[0;34m]\u001b[0m\u001b[0;34m,\u001b[0m \u001b[0mmethod\u001b[0m\u001b[0;34m=\u001b[0m\u001b[0mmethod\u001b[0m\u001b[0;34m,\u001b[0m \u001b[0mtolerance\u001b[0m\u001b[0;34m=\u001b[0m\u001b[0mtolerance\u001b[0m\u001b[0;34m)\u001b[0m\u001b[0;34m\u001b[0m\u001b[0;34m\u001b[0m\u001b[0m\n",
      "\u001b[0;32mpandas/_libs/index.pyx\u001b[0m in \u001b[0;36mpandas._libs.index.IndexEngine.get_loc\u001b[0;34m()\u001b[0m\n",
      "\u001b[0;32mpandas/_libs/index.pyx\u001b[0m in \u001b[0;36mpandas._libs.index.IndexEngine.get_loc\u001b[0;34m()\u001b[0m\n",
      "\u001b[0;32mpandas/_libs/hashtable_class_helper.pxi\u001b[0m in \u001b[0;36mpandas._libs.hashtable.PyObjectHashTable.get_item\u001b[0;34m()\u001b[0m\n",
      "\u001b[0;32mpandas/_libs/hashtable_class_helper.pxi\u001b[0m in \u001b[0;36mpandas._libs.hashtable.PyObjectHashTable.get_item\u001b[0;34m()\u001b[0m\n",
      "\u001b[0;31mKeyError\u001b[0m: ''"
     ]
    }
   ],
   "source": [
    "player_map = dict(zip(players['person_fullName'], players['person_id']))\n",
    "\n",
    "df['player_id'] = [player_map[difflib.get_close_matches(i, players['person_fullName'])[0]] for i in df['']]"
   ]
  },
  {
   "cell_type": "code",
   "execution_count": null,
   "metadata": {},
   "outputs": [],
   "source": []
  }
 ],
 "metadata": {
  "kernelspec": {
   "display_name": "Python 3",
   "language": "python",
   "name": "python3"
  },
  "language_info": {
   "codemirror_mode": {
    "name": "ipython",
    "version": 3
   },
   "file_extension": ".py",
   "mimetype": "text/x-python",
   "name": "python",
   "nbconvert_exporter": "python",
   "pygments_lexer": "ipython3",
   "version": "3.7.2"
  }
 },
 "nbformat": 4,
 "nbformat_minor": 2
}
