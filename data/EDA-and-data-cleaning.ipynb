{
 "cells": [
  {
   "cell_type": "code",
   "execution_count": 90,
   "metadata": {},
   "outputs": [],
   "source": [
    "import pandas as pd\n",
    "import os"
   ]
  },
  {
   "cell_type": "code",
   "execution_count": 91,
   "metadata": {},
   "outputs": [],
   "source": [
    "df = pd.read_csv('./raw_data/' + os.listdir('raw_data')[0])"
   ]
  },
  {
   "cell_type": "code",
   "execution_count": 92,
   "metadata": {},
   "outputs": [],
   "source": [
    "df.columns = [i.lower() for i in df.columns]"
   ]
  },
  {
   "cell_type": "code",
   "execution_count": 93,
   "metadata": {},
   "outputs": [
    {
     "data": {
      "text/plain": [
       "player                   1. Connor McDavid\n",
       "team                                   EDM\n",
       "age                                     22\n",
       "date of birth                 Jan 13, 1997\n",
       "country                             Canada\n",
       "weight                     193 lbs - 88 kg\n",
       "height                       6' 1 - 185 cm\n",
       "pos                                      C\n",
       "handed                                Left\n",
       "drafted           1 - Round 1 - 2015 (EDM)\n",
       "slide cand.                            NaN\n",
       "waivers exempt                         NaN\n",
       "arb. elig                              NaN\n",
       "gp                                       0\n",
       "g                                        0\n",
       "a                                        0\n",
       "p                                        0\n",
       "p/gp                                  0.00\n",
       "+/-                                      0\n",
       "sh                                       0\n",
       "sh%                                   0.00\n",
       "toi                                    NaN\n",
       "w                                        -\n",
       "l                                        -\n",
       "so                                       -\n",
       "gaa                                      -\n",
       "sv%                                      -\n",
       "type                      Standard (1-way)\n",
       "signing date                   Jul 5, 2017\n",
       "signing age                             20\n",
       "arb. elig.1                            NaN\n",
       "arb. req                               NaN\n",
       "clause                                 NaN\n",
       "length                                   8\n",
       "signing                                RFA\n",
       "expiry                                 UFA\n",
       "exp. year                             2026\n",
       "cap hit                        $12,500,000\n",
       "cap hit %                            16.7%\n",
       "aav                            $12,500,000\n",
       "salary                         $14,000,000\n",
       "base salary                     $1,000,000\n",
       "minors                         $14,000,000\n",
       "s.bonus                        $13,000,000\n",
       "p.bonus                                 $0\n",
       "Name: 0, dtype: object"
      ]
     },
     "execution_count": 93,
     "metadata": {},
     "output_type": "execute_result"
    }
   ],
   "source": [
    "df.loc[0]"
   ]
  },
  {
   "cell_type": "code",
   "execution_count": 94,
   "metadata": {},
   "outputs": [],
   "source": [
    "df['player'] = [i.split(' ', maxsplit=1)[1] for i in df['player']]"
   ]
  },
  {
   "cell_type": "code",
   "execution_count": 95,
   "metadata": {},
   "outputs": [],
   "source": [
    "df['date of birth'] = pd.to_datetime(df['date of birth'])"
   ]
  },
  {
   "cell_type": "code",
   "execution_count": 96,
   "metadata": {},
   "outputs": [],
   "source": [
    "df['weight'] = [int(i.split(' ', maxsplit=1)[0]) for i in df['weight']]"
   ]
  },
  {
   "cell_type": "code",
   "execution_count": 97,
   "metadata": {},
   "outputs": [],
   "source": [
    "df['height'] = [int(i.split('-')[1].split(' ')[1]) for i in df['height']]"
   ]
  },
  {
   "cell_type": "code",
   "execution_count": 115,
   "metadata": {},
   "outputs": [
    {
     "name": "stderr",
     "output_type": "stream",
     "text": [
      "/anaconda3/lib/python3.7/site-packages/ipykernel_launcher.py:3: SettingWithCopyWarning: \n",
      "A value is trying to be set on a copy of a slice from a DataFrame.\n",
      "Try using .loc[row_indexer,col_indexer] = value instead\n",
      "\n",
      "See the caveats in the documentation: http://pandas.pydata.org/pandas-docs/stable/indexing.html#indexing-view-versus-copy\n",
      "  This is separate from the ipykernel package so we can avoid doing imports until\n"
     ]
    }
   ],
   "source": [
    "df = df[df['pos'] != 'G']\n",
    "\n",
    "df['pos'] = ['D' if i.__contains__('D') else 'F' for i in df['pos']]"
   ]
  },
  {
   "cell_type": "code",
   "execution_count": 98,
   "metadata": {},
   "outputs": [],
   "source": [
    "df['drafted'] = [i.split(' ')[0] for i in df['drafted']]"
   ]
  },
  {
   "cell_type": "code",
   "execution_count": 99,
   "metadata": {},
   "outputs": [],
   "source": [
    "df['slide cand.'] = [1 if i == '✓' else 0 for i in df['slide cand.']]"
   ]
  },
  {
   "cell_type": "code",
   "execution_count": 100,
   "metadata": {},
   "outputs": [],
   "source": [
    "df['waivers exempt'] = [1 if i == '✓' else 0 for i in df['waivers exempt']]"
   ]
  },
  {
   "cell_type": "code",
   "execution_count": 101,
   "metadata": {},
   "outputs": [],
   "source": [
    "df['arb. elig'] = [1 if i == '✓' else 0 for i in df['arb. elig']]"
   ]
  },
  {
   "cell_type": "code",
   "execution_count": 102,
   "metadata": {},
   "outputs": [],
   "source": [
    "drop_cols = [\n",
    "    'gp', 'g', 'a', 'p', 'p/gp', '+/-', 'sh', 'sh%', 'toi',\n",
    "    'w', 'l', 'so', 'gaa', 'sv%', 'signing date', 'arb. elig.1',\n",
    "    'cap hit', 'salary', 'base salary', 'minors', 's.bonus', 'p.bonus',\n",
    "    'arb. req', 'exp. year'\n",
    "]\n",
    "\n",
    "df = df.drop(drop_cols, axis=1)"
   ]
  },
  {
   "cell_type": "code",
   "execution_count": 103,
   "metadata": {},
   "outputs": [],
   "source": [
    "type_map = {\n",
    "    'Standard (1-way)': 'one_way',\n",
    "    '35+ (1-way)': 'one_way',\n",
    "    'Standard (2-way)': 'two_way',\n",
    "    'Entry-Level': 'elc'\n",
    "}\n",
    "\n",
    "df['type'] = df['type'].map(type_map)"
   ]
  },
  {
   "cell_type": "code",
   "execution_count": 104,
   "metadata": {},
   "outputs": [],
   "source": [
    "df['clause'] = df['clause'].fillna('none')"
   ]
  },
  {
   "cell_type": "code",
   "execution_count": 107,
   "metadata": {},
   "outputs": [],
   "source": [
    "df['cap hit %'] = [float(i.replace('%','')) for i in df['cap hit %']]"
   ]
  },
  {
   "cell_type": "code",
   "execution_count": 111,
   "metadata": {},
   "outputs": [],
   "source": [
    "df['aav'] = [float(i.replace('$','').replace(',','')) for i in df['aav']]"
   ]
  },
  {
   "cell_type": "code",
   "execution_count": 117,
   "metadata": {},
   "outputs": [
    {
     "data": {
      "text/html": [
       "<div>\n",
       "<style scoped>\n",
       "    .dataframe tbody tr th:only-of-type {\n",
       "        vertical-align: middle;\n",
       "    }\n",
       "\n",
       "    .dataframe tbody tr th {\n",
       "        vertical-align: top;\n",
       "    }\n",
       "\n",
       "    .dataframe thead th {\n",
       "        text-align: right;\n",
       "    }\n",
       "</style>\n",
       "<table border=\"1\" class=\"dataframe\">\n",
       "  <thead>\n",
       "    <tr style=\"text-align: right;\">\n",
       "      <th></th>\n",
       "      <th>player</th>\n",
       "      <th>team</th>\n",
       "      <th>age</th>\n",
       "      <th>date of birth</th>\n",
       "      <th>country</th>\n",
       "      <th>weight</th>\n",
       "      <th>height</th>\n",
       "      <th>pos</th>\n",
       "      <th>handed</th>\n",
       "      <th>drafted</th>\n",
       "      <th>...</th>\n",
       "      <th>waivers exempt</th>\n",
       "      <th>arb. elig</th>\n",
       "      <th>type</th>\n",
       "      <th>signing age</th>\n",
       "      <th>clause</th>\n",
       "      <th>length</th>\n",
       "      <th>signing</th>\n",
       "      <th>expiry</th>\n",
       "      <th>cap hit %</th>\n",
       "      <th>aav</th>\n",
       "    </tr>\n",
       "  </thead>\n",
       "  <tbody>\n",
       "    <tr>\n",
       "      <th>0</th>\n",
       "      <td>Connor McDavid</td>\n",
       "      <td>EDM</td>\n",
       "      <td>22</td>\n",
       "      <td>1997-01-13</td>\n",
       "      <td>Canada</td>\n",
       "      <td>193</td>\n",
       "      <td>185</td>\n",
       "      <td>F</td>\n",
       "      <td>Left</td>\n",
       "      <td>1</td>\n",
       "      <td>...</td>\n",
       "      <td>0</td>\n",
       "      <td>0</td>\n",
       "      <td>one_way</td>\n",
       "      <td>20</td>\n",
       "      <td>none</td>\n",
       "      <td>8</td>\n",
       "      <td>RFA</td>\n",
       "      <td>UFA</td>\n",
       "      <td>16.7</td>\n",
       "      <td>12500000.0</td>\n",
       "    </tr>\n",
       "    <tr>\n",
       "      <th>1</th>\n",
       "      <td>Artemi Panarin</td>\n",
       "      <td>NYR</td>\n",
       "      <td>27</td>\n",
       "      <td>1991-10-30</td>\n",
       "      <td>Russia</td>\n",
       "      <td>168</td>\n",
       "      <td>180</td>\n",
       "      <td>F</td>\n",
       "      <td>Right</td>\n",
       "      <td>-</td>\n",
       "      <td>...</td>\n",
       "      <td>0</td>\n",
       "      <td>0</td>\n",
       "      <td>one_way</td>\n",
       "      <td>27</td>\n",
       "      <td>NMC</td>\n",
       "      <td>7</td>\n",
       "      <td>UFA</td>\n",
       "      <td>UFA</td>\n",
       "      <td>14.3</td>\n",
       "      <td>11642857.0</td>\n",
       "    </tr>\n",
       "    <tr>\n",
       "      <th>2</th>\n",
       "      <td>Auston Matthews</td>\n",
       "      <td>TOR</td>\n",
       "      <td>21</td>\n",
       "      <td>1997-09-17</td>\n",
       "      <td>United States</td>\n",
       "      <td>223</td>\n",
       "      <td>191</td>\n",
       "      <td>F</td>\n",
       "      <td>Left</td>\n",
       "      <td>1</td>\n",
       "      <td>...</td>\n",
       "      <td>0</td>\n",
       "      <td>0</td>\n",
       "      <td>one_way</td>\n",
       "      <td>21</td>\n",
       "      <td>none</td>\n",
       "      <td>5</td>\n",
       "      <td>RFA</td>\n",
       "      <td>UFA</td>\n",
       "      <td>14.6</td>\n",
       "      <td>11634000.0</td>\n",
       "    </tr>\n",
       "    <tr>\n",
       "      <th>3</th>\n",
       "      <td>Erik Karlsson</td>\n",
       "      <td>SJS</td>\n",
       "      <td>29</td>\n",
       "      <td>1990-05-31</td>\n",
       "      <td>Sweden</td>\n",
       "      <td>190</td>\n",
       "      <td>183</td>\n",
       "      <td>D</td>\n",
       "      <td>Right</td>\n",
       "      <td>15</td>\n",
       "      <td>...</td>\n",
       "      <td>0</td>\n",
       "      <td>0</td>\n",
       "      <td>one_way</td>\n",
       "      <td>29</td>\n",
       "      <td>NMC</td>\n",
       "      <td>8</td>\n",
       "      <td>UFA</td>\n",
       "      <td>UFA</td>\n",
       "      <td>14.5</td>\n",
       "      <td>11500000.0</td>\n",
       "    </tr>\n",
       "    <tr>\n",
       "      <th>4</th>\n",
       "      <td>Drew Doughty</td>\n",
       "      <td>LAK</td>\n",
       "      <td>29</td>\n",
       "      <td>1989-12-08</td>\n",
       "      <td>Canada</td>\n",
       "      <td>202</td>\n",
       "      <td>185</td>\n",
       "      <td>D</td>\n",
       "      <td>Right</td>\n",
       "      <td>2</td>\n",
       "      <td>...</td>\n",
       "      <td>0</td>\n",
       "      <td>0</td>\n",
       "      <td>one_way</td>\n",
       "      <td>29</td>\n",
       "      <td>NMC</td>\n",
       "      <td>8</td>\n",
       "      <td>UFA</td>\n",
       "      <td>UFA</td>\n",
       "      <td>13.8</td>\n",
       "      <td>11000000.0</td>\n",
       "    </tr>\n",
       "  </tbody>\n",
       "</table>\n",
       "<p>5 rows × 21 columns</p>\n",
       "</div>"
      ],
      "text/plain": [
       "            player team  age date of birth        country  weight  height pos  \\\n",
       "0   Connor McDavid  EDM   22    1997-01-13         Canada     193     185   F   \n",
       "1   Artemi Panarin  NYR   27    1991-10-30         Russia     168     180   F   \n",
       "2  Auston Matthews  TOR   21    1997-09-17  United States     223     191   F   \n",
       "3    Erik Karlsson  SJS   29    1990-05-31         Sweden     190     183   D   \n",
       "4     Drew Doughty  LAK   29    1989-12-08         Canada     202     185   D   \n",
       "\n",
       "  handed drafted     ...      waivers exempt  arb. elig     type signing age  \\\n",
       "0   Left       1     ...                   0          0  one_way          20   \n",
       "1  Right       -     ...                   0          0  one_way          27   \n",
       "2   Left       1     ...                   0          0  one_way          21   \n",
       "3  Right      15     ...                   0          0  one_way          29   \n",
       "4  Right       2     ...                   0          0  one_way          29   \n",
       "\n",
       "   clause length  signing expiry cap hit %         aav  \n",
       "0    none      8      RFA    UFA      16.7  12500000.0  \n",
       "1     NMC      7      UFA    UFA      14.3  11642857.0  \n",
       "2    none      5      RFA    UFA      14.6  11634000.0  \n",
       "3     NMC      8      UFA    UFA      14.5  11500000.0  \n",
       "4     NMC      8      UFA    UFA      13.8  11000000.0  \n",
       "\n",
       "[5 rows x 21 columns]"
      ]
     },
     "execution_count": 117,
     "metadata": {},
     "output_type": "execute_result"
    }
   ],
   "source": [
    "df.head()"
   ]
  },
  {
   "cell_type": "code",
   "execution_count": 120,
   "metadata": {},
   "outputs": [
    {
     "data": {
      "text/plain": [
       "player                 Connor McDavid\n",
       "team                              EDM\n",
       "age                                22\n",
       "date of birth     1997-01-13 00:00:00\n",
       "country                        Canada\n",
       "weight                            193\n",
       "height                            185\n",
       "pos                                 F\n",
       "handed                           Left\n",
       "drafted                             1\n",
       "slide cand.                         0\n",
       "waivers exempt                      0\n",
       "arb. elig                           0\n",
       "type                          one_way\n",
       "signing age                        20\n",
       "clause                           none\n",
       "length                              8\n",
       "signing                           RFA\n",
       "expiry                            UFA\n",
       "cap hit %                        16.7\n",
       "aav                          1.25e+07\n",
       "Name: 0, dtype: object"
      ]
     },
     "execution_count": 120,
     "metadata": {},
     "output_type": "execute_result"
    }
   ],
   "source": [
    "df.loc[0]"
   ]
  },
  {
   "cell_type": "markdown",
   "metadata": {},
   "source": [
    "# Combine with Career totals prior to signing"
   ]
  },
  {
   "cell_type": "code",
   "execution_count": null,
   "metadata": {},
   "outputs": [],
   "source": []
  }
 ],
 "metadata": {
  "kernelspec": {
   "display_name": "Python 3",
   "language": "python",
   "name": "python3"
  },
  "language_info": {
   "codemirror_mode": {
    "name": "ipython",
    "version": 3
   },
   "file_extension": ".py",
   "mimetype": "text/x-python",
   "name": "python",
   "nbconvert_exporter": "python",
   "pygments_lexer": "ipython3",
   "version": "3.7.2"
  }
 },
 "nbformat": 4,
 "nbformat_minor": 2
}
